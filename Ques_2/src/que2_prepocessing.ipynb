{
  "nbformat": 4,
  "nbformat_minor": 0,
  "metadata": {
    "colab": {
      "provenance": []
    },
    "kernelspec": {
      "name": "python3",
      "display_name": "Python 3"
    },
    "language_info": {
      "name": "python"
    }
  },
  "cells": [
    {
      "cell_type": "code",
      "execution_count": 1,
      "metadata": {
        "id": "vrllJ7jKo42Z"
      },
      "outputs": [],
      "source": [
        "import pandas as pd"
      ]
    },
    {
      "cell_type": "code",
      "source": [
        "#Reading the csv data file\n",
        "file = \"/content/sample_data/StudentsPerformance.csv\"\n",
        "stu_data = pd.read_csv(file)"
      ],
      "metadata": {
        "id": "Gwhv_G1XqJS6"
      },
      "execution_count": 12,
      "outputs": []
    },
    {
      "cell_type": "code",
      "source": [
        "#Summarizing statistics of the dataset\n",
        "print(\"Summary of the dataset:\")\n",
        "print(stu_data.describe())"
      ],
      "metadata": {
        "colab": {
          "base_uri": "https://localhost:8080/"
        },
        "id": "mPA4TY4YqJp6",
        "outputId": "bf7dc899-2f61-44c2-9896-138ac2b08df7"
      },
      "execution_count": 13,
      "outputs": [
        {
          "output_type": "stream",
          "name": "stdout",
          "text": [
            "Summary of the dataset:\n",
            "       math score  reading score  writing score\n",
            "count  1000.00000    1000.000000    1000.000000\n",
            "mean     66.08900      69.169000      68.054000\n",
            "std      15.16308      14.600192      15.195657\n",
            "min       0.00000      17.000000      10.000000\n",
            "25%      57.00000      59.000000      57.750000\n",
            "50%      66.00000      70.000000      69.000000\n",
            "75%      77.00000      79.000000      79.000000\n",
            "max     100.00000     100.000000     100.000000\n"
          ]
        }
      ]
    },
    {
      "cell_type": "code",
      "source": [
        "#Changing the DataFrame to ensure data frame structure\n",
        "stu_data = pd.DataFrame(stu_data)"
      ],
      "metadata": {
        "id": "vo2lWYZrqJz-"
      },
      "execution_count": 14,
      "outputs": []
    },
    {
      "cell_type": "code",
      "source": [
        "#Preprocessing the data\n",
        "#Converting the categorical values into numerical values\n",
        "stu_data['gender'].replace(['female', 'male'], [0, 1], inplace=True)\n",
        "stu_data['test preparation course'].replace(['none', 'completed'], [0, 1], inplace=True)"
      ],
      "metadata": {
        "id": "iEPcMVF7qJ21"
      },
      "execution_count": 15,
      "outputs": []
    },
    {
      "cell_type": "code",
      "source": [
        "#Generating a new column total score\n",
        "stu_data['Total score'] = stu_data['math score'] + stu_data['writing score'] + stu_data['reading score']"
      ],
      "metadata": {
        "id": "RUICCkm3qJ6J"
      },
      "execution_count": 16,
      "outputs": []
    },
    {
      "cell_type": "code",
      "source": [
        "#Printing column names and dimensions\n",
        "print(\"Column names:\")\n",
        "print(stu_data.columns)\n",
        "print(\"\\nDimensions:\")\n",
        "print(stu_data.shape)"
      ],
      "metadata": {
        "colab": {
          "base_uri": "https://localhost:8080/"
        },
        "id": "oNt7Qr0RqJ88",
        "outputId": "d9e837e9-3b49-4d77-9eaf-8e3f8360d15a"
      },
      "execution_count": 17,
      "outputs": [
        {
          "output_type": "stream",
          "name": "stdout",
          "text": [
            "Column names:\n",
            "Index(['gender', 'race/ethnicity', 'parental level of education', 'lunch',\n",
            "       'test preparation course', 'math score', 'reading score',\n",
            "       'writing score', 'Total score'],\n",
            "      dtype='object')\n",
            "\n",
            "Dimensions:\n",
            "(1000, 9)\n"
          ]
        }
      ]
    },
    {
      "cell_type": "code",
      "source": [
        "#Printing the top and bottom rows of the DataFrame\n",
        "print(\"\\nTop rows:\")\n",
        "print(stu_data.head())\n",
        "print(\"\\nBottom rows:\")\n",
        "print(stu_data.tail())"
      ],
      "metadata": {
        "colab": {
          "base_uri": "https://localhost:8080/"
        },
        "id": "QP7y5t9fqKAY",
        "outputId": "39fc6c90-5f16-4d49-a0fd-7ad169639729"
      },
      "execution_count": 18,
      "outputs": [
        {
          "output_type": "stream",
          "name": "stdout",
          "text": [
            "\n",
            "Top rows:\n",
            "   gender race/ethnicity parental level of education         lunch  \\\n",
            "0       0        group B           bachelor's degree      standard   \n",
            "1       0        group C                some college      standard   \n",
            "2       0        group B             master's degree      standard   \n",
            "3       1        group A          associate's degree  free/reduced   \n",
            "4       1        group C                some college      standard   \n",
            "\n",
            "   test preparation course  math score  reading score  writing score  \\\n",
            "0                        0          72             72             74   \n",
            "1                        1          69             90             88   \n",
            "2                        0          90             95             93   \n",
            "3                        0          47             57             44   \n",
            "4                        0          76             78             75   \n",
            "\n",
            "   Total score  \n",
            "0          218  \n",
            "1          247  \n",
            "2          278  \n",
            "3          148  \n",
            "4          229  \n",
            "\n",
            "Bottom rows:\n",
            "     gender race/ethnicity parental level of education         lunch  \\\n",
            "995       0        group E             master's degree      standard   \n",
            "996       1        group C                 high school  free/reduced   \n",
            "997       0        group C                 high school  free/reduced   \n",
            "998       0        group D                some college      standard   \n",
            "999       0        group D                some college  free/reduced   \n",
            "\n",
            "     test preparation course  math score  reading score  writing score  \\\n",
            "995                        1          88             99             95   \n",
            "996                        0          62             55             55   \n",
            "997                        1          59             71             65   \n",
            "998                        1          68             78             77   \n",
            "999                        0          77             86             86   \n",
            "\n",
            "     Total score  \n",
            "995          282  \n",
            "996          172  \n",
            "997          195  \n",
            "998          223  \n",
            "999          249  \n"
          ]
        }
      ]
    },
    {
      "cell_type": "code",
      "source": [
        "#Printing the data structure\n",
        "print(\"\\nData Structure:\")\n",
        "print(stu_data.info())"
      ],
      "metadata": {
        "colab": {
          "base_uri": "https://localhost:8080/"
        },
        "id": "QLBvpB_SrhP_",
        "outputId": "7f7da5d6-6a75-4de5-aeec-daa9cc66d14c"
      },
      "execution_count": 19,
      "outputs": [
        {
          "output_type": "stream",
          "name": "stdout",
          "text": [
            "\n",
            "Data Structure:\n",
            "<class 'pandas.core.frame.DataFrame'>\n",
            "RangeIndex: 1000 entries, 0 to 999\n",
            "Data columns (total 9 columns):\n",
            " #   Column                       Non-Null Count  Dtype \n",
            "---  ------                       --------------  ----- \n",
            " 0   gender                       1000 non-null   int64 \n",
            " 1   race/ethnicity               1000 non-null   object\n",
            " 2   parental level of education  1000 non-null   object\n",
            " 3   lunch                        1000 non-null   object\n",
            " 4   test preparation course      1000 non-null   int64 \n",
            " 5   math score                   1000 non-null   int64 \n",
            " 6   reading score                1000 non-null   int64 \n",
            " 7   writing score                1000 non-null   int64 \n",
            " 8   Total score                  1000 non-null   int64 \n",
            "dtypes: int64(6), object(3)\n",
            "memory usage: 70.4+ KB\n",
            "None\n"
          ]
        }
      ]
    },
    {
      "cell_type": "code",
      "source": [
        "#Printing object columns to categorical columns\n",
        "stu_data['gender'] = pd.Categorical(stu_data['gender'])\n",
        "stu_data['race/ethnicity'] = pd.Categorical(stu_data['race/ethnicity'])\n",
        "stu_data['parental level of education'] = pd.Categorical(stu_data['parental level of education'])\n",
        "stu_data['lunch'] = pd.Categorical(stu_data['lunch'])\n",
        "stu_data['test preparation course'] = pd.Categorical(stu_data['test preparation course'])"
      ],
      "metadata": {
        "id": "sCwqSuM3r58H"
      },
      "execution_count": 20,
      "outputs": []
    },
    {
      "cell_type": "code",
      "source": [
        "#Deleting unnecessary columns\n",
        "stu_data.drop(columns=['lunch'], inplace=True)"
      ],
      "metadata": {
        "id": "UZfrzKkesG9G"
      },
      "execution_count": 21,
      "outputs": []
    },
    {
      "cell_type": "code",
      "source": [
        "#Printing summary statistics after removing unnecessary columns\n",
        "print(\"\\nSummary after removing unnecessary columns:\")\n",
        "print(stu_data.describe())"
      ],
      "metadata": {
        "colab": {
          "base_uri": "https://localhost:8080/"
        },
        "id": "zTptif6wsMIn",
        "outputId": "d0a2fc06-a6ec-42c4-c2d1-c9afcdbe4941"
      },
      "execution_count": 22,
      "outputs": [
        {
          "output_type": "stream",
          "name": "stdout",
          "text": [
            "\n",
            "Summary after removing unnecessary columns:\n",
            "       math score  reading score  writing score  Total score\n",
            "count  1000.00000    1000.000000    1000.000000  1000.000000\n",
            "mean     66.08900      69.169000      68.054000   203.312000\n",
            "std      15.16308      14.600192      15.195657    42.771978\n",
            "min       0.00000      17.000000      10.000000    27.000000\n",
            "25%      57.00000      59.000000      57.750000   175.000000\n",
            "50%      66.00000      70.000000      69.000000   205.000000\n",
            "75%      77.00000      79.000000      79.000000   233.000000\n",
            "max     100.00000     100.000000     100.000000   300.000000\n"
          ]
        }
      ]
    },
    {
      "cell_type": "code",
      "source": [
        "#Searching for missing values\n",
        "print(\"\\n Missing values:\")\n",
        "print(stu_data.isna().any().any())"
      ],
      "metadata": {
        "colab": {
          "base_uri": "https://localhost:8080/"
        },
        "id": "zpEaLwSBsSPE",
        "outputId": "250d32d5-23e7-4e05-9b50-4dc3b101441f"
      },
      "execution_count": 23,
      "outputs": [
        {
          "output_type": "stream",
          "name": "stdout",
          "text": [
            "\n",
            " Missing values:\n",
            "False\n"
          ]
        }
      ]
    },
    {
      "cell_type": "code",
      "source": [
        "#Storing the clean data\n",
        "clean_file_path = \"/content/sample_data/clean_data_file.csv\"\n",
        "stu_data.to_csv(clean_file_path, index=False)"
      ],
      "metadata": {
        "id": "Zlw-1MZQsbV9"
      },
      "execution_count": 24,
      "outputs": []
    }
  ]
}