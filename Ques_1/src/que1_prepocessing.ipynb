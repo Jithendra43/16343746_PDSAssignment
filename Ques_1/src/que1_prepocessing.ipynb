{
  "nbformat": 4,
  "nbformat_minor": 0,
  "metadata": {
    "colab": {
      "provenance": []
    },
    "kernelspec": {
      "name": "python3",
      "display_name": "Python 3"
    },
    "language_info": {
      "name": "python"
    }
  },
  "cells": [
    {
      "cell_type": "code",
      "execution_count": 1,
      "metadata": {
        "id": "Jtl2zAGbSeRs"
      },
      "outputs": [],
      "source": [
        "import pandas as pd"
      ]
    },
    {
      "cell_type": "code",
      "source": [
        "#Reading the csv data file\n",
        "file_path = \"/content/sample_data/raw_data.csv\"\n",
        "frailty_data = pd.read_csv(file_path)"
      ],
      "metadata": {
        "id": "5IVqTF1ldE-5"
      },
      "execution_count": 11,
      "outputs": []
    },
    {
      "cell_type": "code",
      "source": [
        "#summarizing the data\n",
        "print(frailty_data.describe())"
      ],
      "metadata": {
        "colab": {
          "base_uri": "https://localhost:8080/"
        },
        "id": "5ejgBxvpeiMA",
        "outputId": "766d5f71-8cbe-4a36-87fd-37ef77975f62"
      },
      "execution_count": 14,
      "outputs": [
        {
          "output_type": "stream",
          "name": "stdout",
          "text": [
            "          Height      Weight        Age  Grip_Strength\n",
            "count  10.000000   10.000000  10.000000      10.000000\n",
            "mean   68.600000  131.900000  32.500000      26.000000\n",
            "std     1.670662   14.231811  12.860361       4.521553\n",
            "min    65.800000  112.000000  17.000000      19.000000\n",
            "25%    67.825000  120.750000  22.250000      22.500000\n",
            "50%    68.450000  136.000000  29.500000      27.000000\n",
            "75%    69.700000  141.750000  43.500000      29.750000\n",
            "max    71.500000  153.000000  51.000000      31.000000\n"
          ]
        }
      ]
    },
    {
      "cell_type": "code",
      "source": [
        "#Assigning new name to the columns\n",
        "frailty_data.columns = ['Height', 'Weight', 'Age', 'Grip_Strength', 'Frailty']"
      ],
      "metadata": {
        "id": "c8Wvkj8BeqED"
      },
      "execution_count": 15,
      "outputs": []
    },
    {
      "cell_type": "code",
      "source": [
        "#Understanding the type of data and dimensions\n",
        "print(frailty_data.columns)\n",
        "print(frailty_data.shape)"
      ],
      "metadata": {
        "colab": {
          "base_uri": "https://localhost:8080/"
        },
        "id": "w6MDF45retWh",
        "outputId": "21ab2b45-e87d-4be8-a269-87f1b24a40d9"
      },
      "execution_count": 16,
      "outputs": [
        {
          "output_type": "stream",
          "name": "stdout",
          "text": [
            "Index(['Height', 'Weight', 'Age', 'Grip_Strength', 'Frailty'], dtype='object')\n",
            "(10, 5)\n"
          ]
        }
      ]
    },
    {
      "cell_type": "code",
      "source": [
        "#getting the top rows of the dataset\n",
        "print(frailty_data.head())\n"
      ],
      "metadata": {
        "colab": {
          "base_uri": "https://localhost:8080/"
        },
        "id": "cWWKRJXAev6S",
        "outputId": "a4b872a6-eae0-4d65-c448-348074189150"
      },
      "execution_count": 17,
      "outputs": [
        {
          "output_type": "stream",
          "name": "stdout",
          "text": [
            "   Height  Weight  Age  Grip_Strength Frailty\n",
            "0    65.8     112   30             30       N\n",
            "1    71.5     136   19             31       N\n",
            "2    69.4     153   45             29       N\n",
            "3    68.2     142   22             28       Y\n",
            "4    67.8     144   29             24       Y\n"
          ]
        }
      ]
    },
    {
      "cell_type": "code",
      "source": [
        "#printing the data structure\n",
        "print(frailty_data.info())"
      ],
      "metadata": {
        "colab": {
          "base_uri": "https://localhost:8080/"
        },
        "id": "WnBkG1b4e09h",
        "outputId": "4d59404f-a366-45d6-f42f-86cf1f4dec57"
      },
      "execution_count": 18,
      "outputs": [
        {
          "output_type": "stream",
          "name": "stdout",
          "text": [
            "<class 'pandas.core.frame.DataFrame'>\n",
            "RangeIndex: 10 entries, 0 to 9\n",
            "Data columns (total 5 columns):\n",
            " #   Column         Non-Null Count  Dtype  \n",
            "---  ------         --------------  -----  \n",
            " 0   Height         10 non-null     float64\n",
            " 1   Weight         10 non-null     int64  \n",
            " 2   Age            10 non-null     int64  \n",
            " 3   Grip_Strength  10 non-null     int64  \n",
            " 4   Frailty        10 non-null     object \n",
            "dtypes: float64(1), int64(3), object(1)\n",
            "memory usage: 528.0+ bytes\n",
            "None\n"
          ]
        }
      ]
    },
    {
      "cell_type": "code",
      "source": [
        "#converting frailty column to categorical\n",
        "frailty_data['Frailty'] = pd.Categorical(frailty_data['Frailty'])"
      ],
      "metadata": {
        "id": "Qbx4IFixe2oD"
      },
      "execution_count": 19,
      "outputs": []
    },
    {
      "cell_type": "code",
      "source": [
        "#checking for any missing values\n",
        "print(frailty_data.isnull().any())"
      ],
      "metadata": {
        "colab": {
          "base_uri": "https://localhost:8080/"
        },
        "id": "A4dUjQSVe7E5",
        "outputId": "c8ee775d-a670-447a-9036-08fabb51c698"
      },
      "execution_count": 24,
      "outputs": [
        {
          "output_type": "stream",
          "name": "stdout",
          "text": [
            "Height           False\n",
            "Weight           False\n",
            "Age              False\n",
            "Grip_Strength    False\n",
            "Frailty          False\n",
            "dtype: bool\n"
          ]
        }
      ]
    },
    {
      "cell_type": "code",
      "source": [
        "clean_file_path = \"clean_frailty_data.csv\"\n",
        "frailty_data.to_csv(clean_file_path, index=False)"
      ],
      "metadata": {
        "id": "qSWRkKrae_Ic"
      },
      "execution_count": 25,
      "outputs": []
    }
  ]
}